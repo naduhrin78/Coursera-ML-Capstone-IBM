{
    "nbformat_minor": 1, 
    "cells": [
        {
            "source": "<a href=\"https://www.bigdatauniversity.com\"><img src = \"https://ibm.box.com/shared/static/cw2c7r3o20w9zn8gkecaeyjhgw3xdgbj.png\" width = 400, align = \"center\"></a>\n\n<h1 align=center><font size = 5> Classification with Python</font></h1>", 
            "cell_type": "markdown", 
            "metadata": {
                "collapsed": true
            }
        }, 
        {
            "source": "In this notebook we try to practice all the classification algorithms that we learned in this course.\n\nWe load a dataset using Pandas library, and apply the following algorithms, and find the best one for this specific dataset by accuracy evaluation methods.\n\nLets first load required libraries:", 
            "cell_type": "markdown", 
            "metadata": {}
        }, 
        {
            "execution_count": 1, 
            "cell_type": "code", 
            "metadata": {}, 
            "outputs": [], 
            "source": "import itertools\nimport numpy as np\nimport matplotlib.pyplot as plt\nfrom matplotlib.ticker import NullFormatter\nimport pandas as pd\nimport numpy as np\nimport matplotlib.ticker as ticker\nfrom sklearn import preprocessing\nimport warnings\nwarnings.filterwarnings('ignore')\n%matplotlib inline"
        }, 
        {
            "source": "### About dataset", 
            "cell_type": "markdown", 
            "metadata": {}
        }, 
        {
            "source": "This dataset is about past loans. The __Loan_train.csv__ data set includes details of 346 customers whose loan are already paid off or defaulted. It includes following fields:\n\n| Field          | Description                                                                           |\n|----------------|---------------------------------------------------------------------------------------|\n| Loan_status    | Whether a loan is paid off on in collection                                           |\n| Principal      | Basic principal loan amount at the                                                    |\n| Terms          | Origination terms which can be weekly (7 days), biweekly, and monthly payoff schedule |\n| Effective_date | When the loan got originated and took effects                                         |\n| Due_date       | Since it\u2019s one-time payoff schedule, each loan has one single due date                |\n| Age            | Age of applicant                                                                      |\n| Education      | Education of applicant                                                                |\n| Gender         | The gender of applicant                                                               |", 
            "cell_type": "markdown", 
            "metadata": {}
        }, 
        {
            "source": "Lets download the dataset", 
            "cell_type": "markdown", 
            "metadata": {}
        }, 
        {
            "execution_count": 2, 
            "cell_type": "code", 
            "metadata": {}, 
            "outputs": [], 
            "source": "#!wget -O loan_train.csv https://s3-api.us-geo.objectstorage.softlayer.net/cf-courses-data/CognitiveClass/ML0101ENv3/labs/loan_train.csv"
        }, 
        {
            "source": "### Load Data From CSV File  ", 
            "cell_type": "markdown", 
            "metadata": {}
        }, 
        {
            "execution_count": 3, 
            "cell_type": "code", 
            "metadata": {}, 
            "outputs": [
                {
                    "execution_count": 3, 
                    "metadata": {}, 
                    "data": {
                        "text/html": "<div>\n<style scoped>\n    .dataframe tbody tr th:only-of-type {\n        vertical-align: middle;\n    }\n\n    .dataframe tbody tr th {\n        vertical-align: top;\n    }\n\n    .dataframe thead th {\n        text-align: right;\n    }\n</style>\n<table border=\"1\" class=\"dataframe\">\n  <thead>\n    <tr style=\"text-align: right;\">\n      <th></th>\n      <th>Unnamed: 0</th>\n      <th>Unnamed: 0.1</th>\n      <th>loan_status</th>\n      <th>Principal</th>\n      <th>terms</th>\n      <th>effective_date</th>\n      <th>due_date</th>\n      <th>age</th>\n      <th>education</th>\n      <th>Gender</th>\n    </tr>\n  </thead>\n  <tbody>\n    <tr>\n      <th>0</th>\n      <td>0</td>\n      <td>0</td>\n      <td>PAIDOFF</td>\n      <td>1000</td>\n      <td>30</td>\n      <td>9/8/2016</td>\n      <td>10/7/2016</td>\n      <td>45</td>\n      <td>High School or Below</td>\n      <td>male</td>\n    </tr>\n    <tr>\n      <th>1</th>\n      <td>2</td>\n      <td>2</td>\n      <td>PAIDOFF</td>\n      <td>1000</td>\n      <td>30</td>\n      <td>9/8/2016</td>\n      <td>10/7/2016</td>\n      <td>33</td>\n      <td>Bechalor</td>\n      <td>female</td>\n    </tr>\n    <tr>\n      <th>2</th>\n      <td>3</td>\n      <td>3</td>\n      <td>PAIDOFF</td>\n      <td>1000</td>\n      <td>15</td>\n      <td>9/8/2016</td>\n      <td>9/22/2016</td>\n      <td>27</td>\n      <td>college</td>\n      <td>male</td>\n    </tr>\n    <tr>\n      <th>3</th>\n      <td>4</td>\n      <td>4</td>\n      <td>PAIDOFF</td>\n      <td>1000</td>\n      <td>30</td>\n      <td>9/9/2016</td>\n      <td>10/8/2016</td>\n      <td>28</td>\n      <td>college</td>\n      <td>female</td>\n    </tr>\n    <tr>\n      <th>4</th>\n      <td>6</td>\n      <td>6</td>\n      <td>PAIDOFF</td>\n      <td>1000</td>\n      <td>30</td>\n      <td>9/9/2016</td>\n      <td>10/8/2016</td>\n      <td>29</td>\n      <td>college</td>\n      <td>male</td>\n    </tr>\n  </tbody>\n</table>\n</div>", 
                        "text/plain": "   Unnamed: 0  Unnamed: 0.1 loan_status  Principal  terms effective_date  \\\n0           0             0     PAIDOFF       1000     30       9/8/2016   \n1           2             2     PAIDOFF       1000     30       9/8/2016   \n2           3             3     PAIDOFF       1000     15       9/8/2016   \n3           4             4     PAIDOFF       1000     30       9/9/2016   \n4           6             6     PAIDOFF       1000     30       9/9/2016   \n\n    due_date  age             education  Gender  \n0  10/7/2016   45  High School or Below    male  \n1  10/7/2016   33              Bechalor  female  \n2  9/22/2016   27               college    male  \n3  10/8/2016   28               college  female  \n4  10/8/2016   29               college    male  "
                    }, 
                    "output_type": "execute_result"
                }
            ], 
            "source": "df = pd.read_csv('loan_train.csv')\ndf.head()"
        }, 
        {
            "execution_count": 4, 
            "cell_type": "code", 
            "metadata": {}, 
            "outputs": [
                {
                    "execution_count": 4, 
                    "metadata": {}, 
                    "data": {
                        "text/plain": "(346, 10)"
                    }, 
                    "output_type": "execute_result"
                }
            ], 
            "source": "df.shape"
        }, 
        {
            "source": "### Convert to date time object ", 
            "cell_type": "markdown", 
            "metadata": {}
        }, 
        {
            "execution_count": 5, 
            "cell_type": "code", 
            "metadata": {}, 
            "outputs": [
                {
                    "execution_count": 5, 
                    "metadata": {}, 
                    "data": {
                        "text/html": "<div>\n<style scoped>\n    .dataframe tbody tr th:only-of-type {\n        vertical-align: middle;\n    }\n\n    .dataframe tbody tr th {\n        vertical-align: top;\n    }\n\n    .dataframe thead th {\n        text-align: right;\n    }\n</style>\n<table border=\"1\" class=\"dataframe\">\n  <thead>\n    <tr style=\"text-align: right;\">\n      <th></th>\n      <th>Unnamed: 0</th>\n      <th>Unnamed: 0.1</th>\n      <th>loan_status</th>\n      <th>Principal</th>\n      <th>terms</th>\n      <th>effective_date</th>\n      <th>due_date</th>\n      <th>age</th>\n      <th>education</th>\n      <th>Gender</th>\n    </tr>\n  </thead>\n  <tbody>\n    <tr>\n      <th>0</th>\n      <td>0</td>\n      <td>0</td>\n      <td>PAIDOFF</td>\n      <td>1000</td>\n      <td>30</td>\n      <td>2016-09-08</td>\n      <td>2016-10-07</td>\n      <td>45</td>\n      <td>High School or Below</td>\n      <td>male</td>\n    </tr>\n    <tr>\n      <th>1</th>\n      <td>2</td>\n      <td>2</td>\n      <td>PAIDOFF</td>\n      <td>1000</td>\n      <td>30</td>\n      <td>2016-09-08</td>\n      <td>2016-10-07</td>\n      <td>33</td>\n      <td>Bechalor</td>\n      <td>female</td>\n    </tr>\n    <tr>\n      <th>2</th>\n      <td>3</td>\n      <td>3</td>\n      <td>PAIDOFF</td>\n      <td>1000</td>\n      <td>15</td>\n      <td>2016-09-08</td>\n      <td>2016-09-22</td>\n      <td>27</td>\n      <td>college</td>\n      <td>male</td>\n    </tr>\n    <tr>\n      <th>3</th>\n      <td>4</td>\n      <td>4</td>\n      <td>PAIDOFF</td>\n      <td>1000</td>\n      <td>30</td>\n      <td>2016-09-09</td>\n      <td>2016-10-08</td>\n      <td>28</td>\n      <td>college</td>\n      <td>female</td>\n    </tr>\n    <tr>\n      <th>4</th>\n      <td>6</td>\n      <td>6</td>\n      <td>PAIDOFF</td>\n      <td>1000</td>\n      <td>30</td>\n      <td>2016-09-09</td>\n      <td>2016-10-08</td>\n      <td>29</td>\n      <td>college</td>\n      <td>male</td>\n    </tr>\n  </tbody>\n</table>\n</div>", 
                        "text/plain": "   Unnamed: 0  Unnamed: 0.1 loan_status  Principal  terms effective_date  \\\n0           0             0     PAIDOFF       1000     30     2016-09-08   \n1           2             2     PAIDOFF       1000     30     2016-09-08   \n2           3             3     PAIDOFF       1000     15     2016-09-08   \n3           4             4     PAIDOFF       1000     30     2016-09-09   \n4           6             6     PAIDOFF       1000     30     2016-09-09   \n\n    due_date  age             education  Gender  \n0 2016-10-07   45  High School or Below    male  \n1 2016-10-07   33              Bechalor  female  \n2 2016-09-22   27               college    male  \n3 2016-10-08   28               college  female  \n4 2016-10-08   29               college    male  "
                    }, 
                    "output_type": "execute_result"
                }
            ], 
            "source": "df['due_date'] = pd.to_datetime(df['due_date'])\ndf['effective_date'] = pd.to_datetime(df['effective_date'])\ndf.head()"
        }, 
        {
            "source": "# Data visualization and pre-processing\n\n", 
            "cell_type": "markdown", 
            "metadata": {}
        }, 
        {
            "source": "Let\u2019s see how many of each class is in our data set ", 
            "cell_type": "markdown", 
            "metadata": {}
        }, 
        {
            "execution_count": 6, 
            "cell_type": "code", 
            "metadata": {}, 
            "outputs": [
                {
                    "execution_count": 6, 
                    "metadata": {}, 
                    "data": {
                        "text/plain": "PAIDOFF       260\nCOLLECTION     86\nName: loan_status, dtype: int64"
                    }, 
                    "output_type": "execute_result"
                }
            ], 
            "source": "df['loan_status'].value_counts()"
        }, 
        {
            "source": "260 people have paid off the loan on time while 86 have gone into collection \n", 
            "cell_type": "markdown", 
            "metadata": {}
        }, 
        {
            "source": "Lets plot some columns to underestand data better:", 
            "cell_type": "markdown", 
            "metadata": {}
        }, 
        {
            "execution_count": 7, 
            "cell_type": "code", 
            "metadata": {}, 
            "outputs": [], 
            "source": "# notice: installing seaborn might takes a few minutes\n#!conda install -c anaconda seaborn -y"
        }, 
        {
            "execution_count": 8, 
            "cell_type": "code", 
            "metadata": {}, 
            "outputs": [
                {
                    "output_type": "display_data", 
                    "data": {
                        "image/png": "[encoded data removed]", 
                        "text/plain": "<matplotlib.figure.Figure at 0x7fc7e549b358>"
                    }, 
                    "metadata": {}
                }
            ], 
            "source": "import seaborn as sns\n\nbins = np.linspace(df.Principal.min(), df.Principal.max(), 10)\ng = sns.FacetGrid(df, col=\"Gender\", hue=\"loan_status\", palette=\"Set1\", col_wrap=2)\ng.map(plt.hist, 'Principal', bins=bins, ec=\"k\")\n\ng.axes[-1].legend()\nplt.show()"
        }, 
        {
            "execution_count": 9, 
            "cell_type": "code", 
            "metadata": {}, 
            "outputs": [
                {
                    "output_type": "display_data", 
                    "data": {
                        "image/png": "[encoded data removed]", 
                        "text/plain": "<matplotlib.figure.Figure at 0x7fc7dcd0c6d8>"
                    }, 
                    "metadata": {}
                }
            ], 
            "source": "bins = np.linspace(df.age.min(), df.age.max(), 10)\ng = sns.FacetGrid(df, col=\"Gender\", hue=\"loan_status\", palette=\"Set1\", col_wrap=2)\ng.map(plt.hist, 'age', bins=bins, ec=\"k\")\n\ng.axes[-1].legend()\nplt.show()"
        }, 
        {
            "source": "# Pre-processing:  Feature selection/extraction", 
            "cell_type": "markdown", 
            "metadata": {}
        }, 
        {
            "source": "### Lets look at the day of the week people get the loan ", 
            "cell_type": "markdown", 
            "metadata": {}
        }, 
        {
            "execution_count": 10, 
            "cell_type": "code", 
            "metadata": {}, 
            "outputs": [
                {
                    "output_type": "display_data", 
                    "data": {
                        "image/png": "[encoded data removed]", 
                        "text/plain": "<matplotlib.figure.Figure at 0x7fc7dcba5b38>"
                    }, 
                    "metadata": {}
                }
            ], 
            "source": "df['dayofweek'] = df['effective_date'].dt.dayofweek\nbins = np.linspace(df.dayofweek.min(), df.dayofweek.max(), 10)\ng = sns.FacetGrid(df, col=\"Gender\", hue=\"loan_status\", palette=\"Set1\", col_wrap=2)\ng.map(plt.hist, 'dayofweek', bins=bins, ec=\"k\")\ng.axes[-1].legend()\nplt.show()\n"
        }, 
        {
            "source": "We see that people who get the loan at the end of the week dont pay it off, so lets use Feature binarization to set a threshold values less then day 4 ", 
            "cell_type": "markdown", 
            "metadata": {}
        }, 
        {
            "execution_count": 11, 
            "cell_type": "code", 
            "metadata": {}, 
            "outputs": [
                {
                    "execution_count": 11, 
                    "metadata": {}, 
                    "data": {
                        "text/html": "<div>\n<style scoped>\n    .dataframe tbody tr th:only-of-type {\n        vertical-align: middle;\n    }\n\n    .dataframe tbody tr th {\n        vertical-align: top;\n    }\n\n    .dataframe thead th {\n        text-align: right;\n    }\n</style>\n<table border=\"1\" class=\"dataframe\">\n  <thead>\n    <tr style=\"text-align: right;\">\n      <th></th>\n      <th>Unnamed: 0</th>\n      <th>Unnamed: 0.1</th>\n      <th>loan_status</th>\n      <th>Principal</th>\n      <th>terms</th>\n      <th>effective_date</th>\n      <th>due_date</th>\n      <th>age</th>\n      <th>education</th>\n      <th>Gender</th>\n      <th>dayofweek</th>\n      <th>weekend</th>\n    </tr>\n  </thead>\n  <tbody>\n    <tr>\n      <th>0</th>\n      <td>0</td>\n      <td>0</td>\n      <td>PAIDOFF</td>\n      <td>1000</td>\n      <td>30</td>\n      <td>2016-09-08</td>\n      <td>2016-10-07</td>\n      <td>45</td>\n      <td>High School or Below</td>\n      <td>male</td>\n      <td>3</td>\n      <td>0</td>\n    </tr>\n    <tr>\n      <th>1</th>\n      <td>2</td>\n      <td>2</td>\n      <td>PAIDOFF</td>\n      <td>1000</td>\n      <td>30</td>\n      <td>2016-09-08</td>\n      <td>2016-10-07</td>\n      <td>33</td>\n      <td>Bechalor</td>\n      <td>female</td>\n      <td>3</td>\n      <td>0</td>\n    </tr>\n    <tr>\n      <th>2</th>\n      <td>3</td>\n      <td>3</td>\n      <td>PAIDOFF</td>\n      <td>1000</td>\n      <td>15</td>\n      <td>2016-09-08</td>\n      <td>2016-09-22</td>\n      <td>27</td>\n      <td>college</td>\n      <td>male</td>\n      <td>3</td>\n      <td>0</td>\n    </tr>\n    <tr>\n      <th>3</th>\n      <td>4</td>\n      <td>4</td>\n      <td>PAIDOFF</td>\n      <td>1000</td>\n      <td>30</td>\n      <td>2016-09-09</td>\n      <td>2016-10-08</td>\n      <td>28</td>\n      <td>college</td>\n      <td>female</td>\n      <td>4</td>\n      <td>1</td>\n    </tr>\n    <tr>\n      <th>4</th>\n      <td>6</td>\n      <td>6</td>\n      <td>PAIDOFF</td>\n      <td>1000</td>\n      <td>30</td>\n      <td>2016-09-09</td>\n      <td>2016-10-08</td>\n      <td>29</td>\n      <td>college</td>\n      <td>male</td>\n      <td>4</td>\n      <td>1</td>\n    </tr>\n  </tbody>\n</table>\n</div>", 
                        "text/plain": "   Unnamed: 0  Unnamed: 0.1 loan_status  Principal  terms effective_date  \\\n0           0             0     PAIDOFF       1000     30     2016-09-08   \n1           2             2     PAIDOFF       1000     30     2016-09-08   \n2           3             3     PAIDOFF       1000     15     2016-09-08   \n3           4             4     PAIDOFF       1000     30     2016-09-09   \n4           6             6     PAIDOFF       1000     30     2016-09-09   \n\n    due_date  age             education  Gender  dayofweek  weekend  \n0 2016-10-07   45  High School or Below    male          3        0  \n1 2016-10-07   33              Bechalor  female          3        0  \n2 2016-09-22   27               college    male          3        0  \n3 2016-10-08   28               college  female          4        1  \n4 2016-10-08   29               college    male          4        1  "
                    }, 
                    "output_type": "execute_result"
                }
            ], 
            "source": "df['weekend'] = df['dayofweek'].apply(lambda x: 1 if (x>3)  else 0)\ndf.head()"
        }, 
        {
            "source": "## Convert Categorical features to numerical values", 
            "cell_type": "markdown", 
            "metadata": {}
        }, 
        {
            "source": "Lets look at gender:", 
            "cell_type": "markdown", 
            "metadata": {}
        }, 
        {
            "execution_count": 12, 
            "cell_type": "code", 
            "metadata": {}, 
            "outputs": [
                {
                    "execution_count": 12, 
                    "metadata": {}, 
                    "data": {
                        "text/plain": "Gender  loan_status\nfemale  PAIDOFF        0.865385\n        COLLECTION     0.134615\nmale    PAIDOFF        0.731293\n        COLLECTION     0.268707\nName: loan_status, dtype: float64"
                    }, 
                    "output_type": "execute_result"
                }
            ], 
            "source": "df.groupby(['Gender'])['loan_status'].value_counts(normalize=True)"
        }, 
        {
            "source": "86 % of female pay there loans while only 73 % of males pay there loan\n", 
            "cell_type": "markdown", 
            "metadata": {}
        }, 
        {
            "source": "Lets convert male to 0 and female to 1:\n", 
            "cell_type": "markdown", 
            "metadata": {}
        }, 
        {
            "execution_count": 13, 
            "cell_type": "code", 
            "metadata": {}, 
            "outputs": [
                {
                    "execution_count": 13, 
                    "metadata": {}, 
                    "data": {
                        "text/html": "<div>\n<style scoped>\n    .dataframe tbody tr th:only-of-type {\n        vertical-align: middle;\n    }\n\n    .dataframe tbody tr th {\n        vertical-align: top;\n    }\n\n    .dataframe thead th {\n        text-align: right;\n    }\n</style>\n<table border=\"1\" class=\"dataframe\">\n  <thead>\n    <tr style=\"text-align: right;\">\n      <th></th>\n      <th>Unnamed: 0</th>\n      <th>Unnamed: 0.1</th>\n      <th>loan_status</th>\n      <th>Principal</th>\n      <th>terms</th>\n      <th>effective_date</th>\n      <th>due_date</th>\n      <th>age</th>\n      <th>education</th>\n      <th>Gender</th>\n      <th>dayofweek</th>\n      <th>weekend</th>\n    </tr>\n  </thead>\n  <tbody>\n    <tr>\n      <th>0</th>\n      <td>0</td>\n      <td>0</td>\n      <td>PAIDOFF</td>\n      <td>1000</td>\n      <td>30</td>\n      <td>2016-09-08</td>\n      <td>2016-10-07</td>\n      <td>45</td>\n      <td>High School or Below</td>\n      <td>0</td>\n      <td>3</td>\n      <td>0</td>\n    </tr>\n    <tr>\n      <th>1</th>\n      <td>2</td>\n      <td>2</td>\n      <td>PAIDOFF</td>\n      <td>1000</td>\n      <td>30</td>\n      <td>2016-09-08</td>\n      <td>2016-10-07</td>\n      <td>33</td>\n      <td>Bechalor</td>\n      <td>1</td>\n      <td>3</td>\n      <td>0</td>\n    </tr>\n    <tr>\n      <th>2</th>\n      <td>3</td>\n      <td>3</td>\n      <td>PAIDOFF</td>\n      <td>1000</td>\n      <td>15</td>\n      <td>2016-09-08</td>\n      <td>2016-09-22</td>\n      <td>27</td>\n      <td>college</td>\n      <td>0</td>\n      <td>3</td>\n      <td>0</td>\n    </tr>\n    <tr>\n      <th>3</th>\n      <td>4</td>\n      <td>4</td>\n      <td>PAIDOFF</td>\n      <td>1000</td>\n      <td>30</td>\n      <td>2016-09-09</td>\n      <td>2016-10-08</td>\n      <td>28</td>\n      <td>college</td>\n      <td>1</td>\n      <td>4</td>\n      <td>1</td>\n    </tr>\n    <tr>\n      <th>4</th>\n      <td>6</td>\n      <td>6</td>\n      <td>PAIDOFF</td>\n      <td>1000</td>\n      <td>30</td>\n      <td>2016-09-09</td>\n      <td>2016-10-08</td>\n      <td>29</td>\n      <td>college</td>\n      <td>0</td>\n      <td>4</td>\n      <td>1</td>\n    </tr>\n  </tbody>\n</table>\n</div>", 
                        "text/plain": "   Unnamed: 0  Unnamed: 0.1 loan_status  Principal  terms effective_date  \\\n0           0             0     PAIDOFF       1000     30     2016-09-08   \n1           2             2     PAIDOFF       1000     30     2016-09-08   \n2           3             3     PAIDOFF       1000     15     2016-09-08   \n3           4             4     PAIDOFF       1000     30     2016-09-09   \n4           6             6     PAIDOFF       1000     30     2016-09-09   \n\n    due_date  age             education  Gender  dayofweek  weekend  \n0 2016-10-07   45  High School or Below       0          3        0  \n1 2016-10-07   33              Bechalor       1          3        0  \n2 2016-09-22   27               college       0          3        0  \n3 2016-10-08   28               college       1          4        1  \n4 2016-10-08   29               college       0          4        1  "
                    }, 
                    "output_type": "execute_result"
                }
            ], 
            "source": "df['Gender'].replace(to_replace=['male','female'], value=[0,1],inplace=True)\ndf.head()"
        }, 
        {
            "source": "## One Hot Encoding  \n#### How about education?", 
            "cell_type": "markdown", 
            "metadata": {}
        }, 
        {
            "execution_count": 14, 
            "cell_type": "code", 
            "metadata": {}, 
            "outputs": [
                {
                    "execution_count": 14, 
                    "metadata": {}, 
                    "data": {
                        "text/plain": "education             loan_status\nBechalor              PAIDOFF        0.750000\n                      COLLECTION     0.250000\nHigh School or Below  PAIDOFF        0.741722\n                      COLLECTION     0.258278\nMaster or Above       COLLECTION     0.500000\n                      PAIDOFF        0.500000\ncollege               PAIDOFF        0.765101\n                      COLLECTION     0.234899\nName: loan_status, dtype: float64"
                    }, 
                    "output_type": "execute_result"
                }
            ], 
            "source": "df.groupby(['education'])['loan_status'].value_counts(normalize=True)"
        }, 
        {
            "source": "#### Feature befor One Hot Encoding", 
            "cell_type": "markdown", 
            "metadata": {}
        }, 
        {
            "execution_count": 15, 
            "cell_type": "code", 
            "metadata": {}, 
            "outputs": [
                {
                    "execution_count": 15, 
                    "metadata": {}, 
                    "data": {
                        "text/html": "<div>\n<style scoped>\n    .dataframe tbody tr th:only-of-type {\n        vertical-align: middle;\n    }\n\n    .dataframe tbody tr th {\n        vertical-align: top;\n    }\n\n    .dataframe thead th {\n        text-align: right;\n    }\n</style>\n<table border=\"1\" class=\"dataframe\">\n  <thead>\n    <tr style=\"text-align: right;\">\n      <th></th>\n      <th>Principal</th>\n      <th>terms</th>\n      <th>age</th>\n      <th>Gender</th>\n      <th>education</th>\n    </tr>\n  </thead>\n  <tbody>\n    <tr>\n      <th>0</th>\n      <td>1000</td>\n      <td>30</td>\n      <td>45</td>\n      <td>0</td>\n      <td>High School or Below</td>\n    </tr>\n    <tr>\n      <th>1</th>\n      <td>1000</td>\n      <td>30</td>\n      <td>33</td>\n      <td>1</td>\n      <td>Bechalor</td>\n    </tr>\n    <tr>\n      <th>2</th>\n      <td>1000</td>\n      <td>15</td>\n      <td>27</td>\n      <td>0</td>\n      <td>college</td>\n    </tr>\n    <tr>\n      <th>3</th>\n      <td>1000</td>\n      <td>30</td>\n      <td>28</td>\n      <td>1</td>\n      <td>college</td>\n    </tr>\n    <tr>\n      <th>4</th>\n      <td>1000</td>\n      <td>30</td>\n      <td>29</td>\n      <td>0</td>\n      <td>college</td>\n    </tr>\n  </tbody>\n</table>\n</div>", 
                        "text/plain": "   Principal  terms  age  Gender             education\n0       1000     30   45       0  High School or Below\n1       1000     30   33       1              Bechalor\n2       1000     15   27       0               college\n3       1000     30   28       1               college\n4       1000     30   29       0               college"
                    }, 
                    "output_type": "execute_result"
                }
            ], 
            "source": "df[['Principal','terms','age','Gender','education']].head()"
        }, 
        {
            "source": "#### Use one hot encoding technique to conver categorical varables to binary variables and append them to the feature Data Frame ", 
            "cell_type": "markdown", 
            "metadata": {}
        }, 
        {
            "execution_count": 16, 
            "cell_type": "code", 
            "metadata": {}, 
            "outputs": [
                {
                    "execution_count": 16, 
                    "metadata": {}, 
                    "data": {
                        "text/html": "<div>\n<style scoped>\n    .dataframe tbody tr th:only-of-type {\n        vertical-align: middle;\n    }\n\n    .dataframe tbody tr th {\n        vertical-align: top;\n    }\n\n    .dataframe thead th {\n        text-align: right;\n    }\n</style>\n<table border=\"1\" class=\"dataframe\">\n  <thead>\n    <tr style=\"text-align: right;\">\n      <th></th>\n      <th>Principal</th>\n      <th>terms</th>\n      <th>age</th>\n      <th>Gender</th>\n      <th>weekend</th>\n      <th>Bechalor</th>\n      <th>High School or Below</th>\n      <th>college</th>\n    </tr>\n  </thead>\n  <tbody>\n    <tr>\n      <th>0</th>\n      <td>1000</td>\n      <td>30</td>\n      <td>45</td>\n      <td>0</td>\n      <td>0</td>\n      <td>0</td>\n      <td>1</td>\n      <td>0</td>\n    </tr>\n    <tr>\n      <th>1</th>\n      <td>1000</td>\n      <td>30</td>\n      <td>33</td>\n      <td>1</td>\n      <td>0</td>\n      <td>1</td>\n      <td>0</td>\n      <td>0</td>\n    </tr>\n    <tr>\n      <th>2</th>\n      <td>1000</td>\n      <td>15</td>\n      <td>27</td>\n      <td>0</td>\n      <td>0</td>\n      <td>0</td>\n      <td>0</td>\n      <td>1</td>\n    </tr>\n    <tr>\n      <th>3</th>\n      <td>1000</td>\n      <td>30</td>\n      <td>28</td>\n      <td>1</td>\n      <td>1</td>\n      <td>0</td>\n      <td>0</td>\n      <td>1</td>\n    </tr>\n    <tr>\n      <th>4</th>\n      <td>1000</td>\n      <td>30</td>\n      <td>29</td>\n      <td>0</td>\n      <td>1</td>\n      <td>0</td>\n      <td>0</td>\n      <td>1</td>\n    </tr>\n  </tbody>\n</table>\n</div>", 
                        "text/plain": "   Principal  terms  age  Gender  weekend  Bechalor  High School or Below  \\\n0       1000     30   45       0        0         0                     1   \n1       1000     30   33       1        0         1                     0   \n2       1000     15   27       0        0         0                     0   \n3       1000     30   28       1        1         0                     0   \n4       1000     30   29       0        1         0                     0   \n\n   college  \n0        0  \n1        0  \n2        1  \n3        1  \n4        1  "
                    }, 
                    "output_type": "execute_result"
                }
            ], 
            "source": "Feature = df[['Principal','terms','age','Gender','weekend']]\nFeature = pd.concat([Feature,pd.get_dummies(df['education'])], axis=1)\nFeature.drop(['Master or Above'], axis = 1,inplace=True)\nFeature.head()\n"
        }, 
        {
            "source": "### Feature selection", 
            "cell_type": "markdown", 
            "metadata": {}
        }, 
        {
            "source": "Lets define feature sets, X:", 
            "cell_type": "markdown", 
            "metadata": {}
        }, 
        {
            "execution_count": 17, 
            "cell_type": "code", 
            "metadata": {}, 
            "outputs": [
                {
                    "execution_count": 17, 
                    "metadata": {}, 
                    "data": {
                        "text/html": "<div>\n<style scoped>\n    .dataframe tbody tr th:only-of-type {\n        vertical-align: middle;\n    }\n\n    .dataframe tbody tr th {\n        vertical-align: top;\n    }\n\n    .dataframe thead th {\n        text-align: right;\n    }\n</style>\n<table border=\"1\" class=\"dataframe\">\n  <thead>\n    <tr style=\"text-align: right;\">\n      <th></th>\n      <th>Principal</th>\n      <th>terms</th>\n      <th>age</th>\n      <th>Gender</th>\n      <th>weekend</th>\n      <th>Bechalor</th>\n      <th>High School or Below</th>\n      <th>college</th>\n    </tr>\n  </thead>\n  <tbody>\n    <tr>\n      <th>0</th>\n      <td>1000</td>\n      <td>30</td>\n      <td>45</td>\n      <td>0</td>\n      <td>0</td>\n      <td>0</td>\n      <td>1</td>\n      <td>0</td>\n    </tr>\n    <tr>\n      <th>1</th>\n      <td>1000</td>\n      <td>30</td>\n      <td>33</td>\n      <td>1</td>\n      <td>0</td>\n      <td>1</td>\n      <td>0</td>\n      <td>0</td>\n    </tr>\n    <tr>\n      <th>2</th>\n      <td>1000</td>\n      <td>15</td>\n      <td>27</td>\n      <td>0</td>\n      <td>0</td>\n      <td>0</td>\n      <td>0</td>\n      <td>1</td>\n    </tr>\n    <tr>\n      <th>3</th>\n      <td>1000</td>\n      <td>30</td>\n      <td>28</td>\n      <td>1</td>\n      <td>1</td>\n      <td>0</td>\n      <td>0</td>\n      <td>1</td>\n    </tr>\n    <tr>\n      <th>4</th>\n      <td>1000</td>\n      <td>30</td>\n      <td>29</td>\n      <td>0</td>\n      <td>1</td>\n      <td>0</td>\n      <td>0</td>\n      <td>1</td>\n    </tr>\n  </tbody>\n</table>\n</div>", 
                        "text/plain": "   Principal  terms  age  Gender  weekend  Bechalor  High School or Below  \\\n0       1000     30   45       0        0         0                     1   \n1       1000     30   33       1        0         1                     0   \n2       1000     15   27       0        0         0                     0   \n3       1000     30   28       1        1         0                     0   \n4       1000     30   29       0        1         0                     0   \n\n   college  \n0        0  \n1        0  \n2        1  \n3        1  \n4        1  "
                    }, 
                    "output_type": "execute_result"
                }
            ], 
            "source": "X = Feature\nX[0:5]"
        }, 
        {
            "source": "What are our lables?", 
            "cell_type": "markdown", 
            "metadata": {}
        }, 
        {
            "execution_count": 18, 
            "cell_type": "code", 
            "metadata": {}, 
            "outputs": [
                {
                    "execution_count": 18, 
                    "metadata": {}, 
                    "data": {
                        "text/plain": "array(['PAIDOFF', 'PAIDOFF', 'PAIDOFF', 'PAIDOFF', 'PAIDOFF'], dtype=object)"
                    }, 
                    "output_type": "execute_result"
                }
            ], 
            "source": "y = df['loan_status'].values\ny[0:5]"
        }, 
        {
            "source": "## Normalize Data ", 
            "cell_type": "markdown", 
            "metadata": {}
        }, 
        {
            "source": "Data Standardization give data zero mean and unit variance (technically should be done after train test split )", 
            "cell_type": "markdown", 
            "metadata": {}
        }, 
        {
            "execution_count": 19, 
            "cell_type": "code", 
            "metadata": {}, 
            "outputs": [
                {
                    "execution_count": 19, 
                    "metadata": {}, 
                    "data": {
                        "text/plain": "array([[ 0.51578458,  0.92071769,  2.33152555, -0.42056004, -1.20577805,\n        -0.38170062,  1.13639374, -0.86968108],\n       [ 0.51578458,  0.92071769,  0.34170148,  2.37778177, -1.20577805,\n         2.61985426, -0.87997669, -0.86968108],\n       [ 0.51578458, -0.95911111, -0.65321055, -0.42056004, -1.20577805,\n        -0.38170062, -0.87997669,  1.14984679],\n       [ 0.51578458,  0.92071769, -0.48739188,  2.37778177,  0.82934003,\n        -0.38170062, -0.87997669,  1.14984679],\n       [ 0.51578458,  0.92071769, -0.3215732 , -0.42056004,  0.82934003,\n        -0.38170062, -0.87997669,  1.14984679]])"
                    }, 
                    "output_type": "execute_result"
                }
            ], 
            "source": "X= preprocessing.StandardScaler().fit(X).transform(X)\nX[0:5]"
        }, 
        {
            "source": "# Classification ", 
            "cell_type": "markdown", 
            "metadata": {}
        }, 
        {
            "source": "Now, it is your turn, use the training set to build an accurate model. Then use the test set to report the accuracy of the model\nYou should use the following algorithm:\n- K Nearest Neighbor(KNN)\n- Decision Tree\n- Support Vector Machine\n- Logistic Regression\n\n\n\n__ Notice:__ \n- You can go above and change the pre-processing, feature selection, feature-extraction, and so on, to make a better model.\n- You should use either scikit-learn, Scipy or Numpy libraries for developing the classification algorithms.\n- You should include the code of the algorithm in the following cells.", 
            "cell_type": "markdown", 
            "metadata": {}
        }, 
        {
            "execution_count": 20, 
            "cell_type": "code", 
            "metadata": {}, 
            "outputs": [
                {
                    "output_type": "stream", 
                    "name": "stdout", 
                    "text": "Train set: (276, 8) (276,)\nTest set: (70, 8) (70,)\n"
                }
            ], 
            "source": "from sklearn.model_selection import train_test_split\nX_train, X_test, y_train, y_test = train_test_split( X, y, test_size=0.2, random_state=4)\nprint ('Train set:', X_train.shape,  y_train.shape)\nprint ('Test set:', X_test.shape,  y_test.shape)"
        }, 
        {
            "source": "# K Nearest Neighbor(KNN)\nNotice: You should find the best k to build the model with the best accuracy.  \n**warning:** You should not use the __loan_test.csv__ for finding the best k, however, you can split your train_loan.csv into train and test to find the best __k__.", 
            "cell_type": "markdown", 
            "metadata": {}
        }, 
        {
            "execution_count": 21, 
            "cell_type": "code", 
            "metadata": {}, 
            "outputs": [], 
            "source": "from sklearn.neighbors import KNeighborsClassifier\nfrom sklearn import metrics\n"
        }, 
        {
            "execution_count": 22, 
            "cell_type": "code", 
            "metadata": {}, 
            "outputs": [
                {
                    "execution_count": 22, 
                    "metadata": {}, 
                    "data": {
                        "text/plain": "array([ 0.67142857,  0.65714286,  0.71428571,  0.68571429,  0.75714286,\n        0.71428571,  0.78571429,  0.75714286,  0.75714286,  0.67142857,\n        0.7       ,  0.72857143,  0.7       ,  0.7       ,  0.68571429,\n        0.72857143,  0.72857143,  0.72857143,  0.7       ,  0.68571429,\n        0.71428571,  0.68571429,  0.7       ,  0.7       ,  0.72857143,\n        0.71428571,  0.77142857,  0.68571429,  0.78571429,  0.75714286,\n        0.78571429,  0.74285714,  0.78571429,  0.78571429,  0.78571429,\n        0.75714286,  0.78571429,  0.78571429,  0.78571429,  0.78571429,\n        0.77142857,  0.77142857,  0.77142857,  0.78571429,  0.77142857,\n        0.78571429,  0.78571429,  0.78571429,  0.78571429])"
                    }, 
                    "output_type": "execute_result"
                }
            ], 
            "source": "Ks = 50\nmean_acc = np.zeros((Ks-1))\nstd_acc = np.zeros((Ks-1))\nConfustionMx = [];\nfor n in range(1,Ks):\n    \n    #Train Model and Predict  \n    neigh = KNeighborsClassifier(n_neighbors = n, n_jobs=-1, weights='uniform').fit(X_train,y_train)\n    yhat=neigh.predict(X_test)\n    mean_acc[n-1] = metrics.accuracy_score(y_test, yhat)\n\n    \n    std_acc[n-1]=np.std(yhat==y_test)/np.sqrt(yhat.shape[0])\n\nmean_acc"
        }, 
        {
            "execution_count": 23, 
            "cell_type": "code", 
            "metadata": {}, 
            "outputs": [
                {
                    "output_type": "display_data", 
                    "data": {
                        "image/png": "[encoded data removed]", 
                        "text/plain": "<matplotlib.figure.Figure at 0x7fc7dcc6d278>"
                    }, 
                    "metadata": {}
                }
            ], 
            "source": "plt.plot(range(1,Ks),mean_acc,'g')\nplt.fill_between(range(1,Ks),mean_acc - 1 * std_acc,mean_acc + 1 * std_acc, alpha=0.10)\nplt.legend(('Accuracy ', '+/- 3xstd'))\nplt.ylabel('Accuracy ')\nplt.xlabel('Number of Nabors (K)')\nplt.tight_layout()\nplt.show()"
        }, 
        {
            "source": "The best accuracy was with 0.785714285714 with k= 7", 
            "cell_type": "markdown", 
            "metadata": {}
        }, 
        {
            "source": "### Final KNN model for testing", 
            "cell_type": "markdown", 
            "metadata": {}
        }, 
        {
            "execution_count": 24, 
            "cell_type": "code", 
            "metadata": {}, 
            "outputs": [], 
            "source": "final_KNN = KNeighborsClassifier(n_neighbors = 7).fit(X_train,y_train)"
        }, 
        {
            "source": "# Decision Tree", 
            "cell_type": "markdown", 
            "metadata": {}
        }, 
        {
            "execution_count": 25, 
            "cell_type": "code", 
            "metadata": {}, 
            "outputs": [], 
            "source": "from sklearn.tree import DecisionTreeClassifier"
        }, 
        {
            "execution_count": 26, 
            "cell_type": "code", 
            "metadata": {}, 
            "outputs": [
                {
                    "execution_count": 26, 
                    "metadata": {}, 
                    "data": {
                        "text/plain": "array([ 0.78571429,  0.78571429,  0.61428571,  0.61428571,  0.64285714,\n        0.77142857,  0.75714286,  0.75714286,  0.65714286,  0.7       ,\n        0.7       ,  0.7       ,  0.71428571,  0.71428571,  0.72857143,\n        0.7       ,  0.7       ,  0.7       ,  0.7       ,  0.68571429,\n        0.7       ,  0.7       ,  0.68571429,  0.7       ,  0.7       ,\n        0.7       ,  0.7       ,  0.7       ,  0.7       ,  0.68571429,\n        0.68571429,  0.68571429,  0.7       ,  0.7       ,  0.68571429,\n        0.7       ,  0.7       ,  0.7       ,  0.68571429,  0.7       ,\n        0.7       ,  0.68571429,  0.7       ,  0.7       ,  0.68571429,\n        0.7       ,  0.68571429,  0.7       ,  0.7       ])"
                    }, 
                    "output_type": "execute_result"
                }
            ], 
            "source": "Ks = 50\nmean_acc = np.zeros((Ks-1))\nstd_acc = np.zeros((Ks-1))\nConfustionMx = [];\nfor n in range(1,Ks):\n    \n    #Train Model and Predict  \n    dTree = DecisionTreeClassifier(criterion=\"entropy\", max_depth = n).fit(X_train,y_train)\n    yhat= dTree.predict(X_test)\n    mean_acc[n-1] = metrics.accuracy_score(y_test, yhat)\n\n    \n    std_acc[n-1]=np.std(yhat==y_test)/np.sqrt(yhat.shape[0])\n\nmean_acc"
        }, 
        {
            "execution_count": 27, 
            "cell_type": "code", 
            "metadata": {}, 
            "outputs": [
                {
                    "output_type": "display_data", 
                    "data": {
                        "image/png": "[encoded data removed]", 
                        "text/plain": "<matplotlib.figure.Figure at 0x7fc7dcc60208>"
                    }, 
                    "metadata": {}
                }
            ], 
            "source": "plt.plot(range(1,Ks),mean_acc,'g')\nplt.fill_between(range(1,Ks),mean_acc - 1 * std_acc,mean_acc + 1 * std_acc, alpha=0.10)\nplt.legend(('Accuracy ', '+/- 3xstd'))\nplt.ylabel('Accuracy ')\nplt.xlabel('Depth (K)')\nplt.tight_layout()\nplt.show()"
        }, 
        {
            "source": "Max depth after 15 intuitively seems more stable, but not so lower accuracy", 
            "cell_type": "markdown", 
            "metadata": {}
        }, 
        {
            "source": "### Final Decision Tree model for testing", 
            "cell_type": "markdown", 
            "metadata": {}
        }, 
        {
            "execution_count": 28, 
            "cell_type": "code", 
            "metadata": {}, 
            "outputs": [], 
            "source": "final_dTree = DecisionTreeClassifier(criterion=\"entropy\", max_depth = 15).fit(X_train,y_train)"
        }, 
        {
            "source": "# Support Vector Machine", 
            "cell_type": "markdown", 
            "metadata": {}
        }, 
        {
            "execution_count": 29, 
            "cell_type": "code", 
            "metadata": {}, 
            "outputs": [], 
            "source": "from sklearn import svm"
        }, 
        {
            "execution_count": 30, 
            "cell_type": "code", 
            "metadata": {}, 
            "outputs": [
                {
                    "execution_count": 30, 
                    "metadata": {}, 
                    "data": {
                        "text/plain": "SVC(C=1.0, cache_size=200, class_weight=None, coef0=0.0,\n  decision_function_shape='ovr', degree=3, gamma='auto', kernel='linear',\n  max_iter=-1, probability=False, random_state=None, shrinking=True,\n  tol=0.001, verbose=False)"
                    }, 
                    "output_type": "execute_result"
                }
            ], 
            "source": "final_SVM = svm.SVC(kernel='linear')\nfinal_SVM.fit(X_train, y_train)"
        }, 
        {
            "execution_count": 31, 
            "cell_type": "code", 
            "metadata": {}, 
            "outputs": [
                {
                    "execution_count": 31, 
                    "metadata": {}, 
                    "data": {
                        "text/plain": "0.7857142857142857"
                    }, 
                    "output_type": "execute_result"
                }
            ], 
            "source": "metrics.accuracy_score(final_SVM.predict(X_test), y_test)"
        }, 
        {
            "source": "# Logistic Regression", 
            "cell_type": "markdown", 
            "metadata": {}
        }, 
        {
            "execution_count": 32, 
            "cell_type": "code", 
            "metadata": {}, 
            "outputs": [], 
            "source": "from sklearn.linear_model import LogisticRegression"
        }, 
        {
            "execution_count": 33, 
            "cell_type": "code", 
            "metadata": {}, 
            "outputs": [], 
            "source": "LR = LogisticRegression(C=0.03, solver='liblinear', max_iter=300).fit(X_train,y_train)"
        }, 
        {
            "execution_count": 34, 
            "cell_type": "code", 
            "metadata": {}, 
            "outputs": [
                {
                    "execution_count": 34, 
                    "metadata": {}, 
                    "data": {
                        "text/plain": "0.72857142857142854"
                    }, 
                    "output_type": "execute_result"
                }
            ], 
            "source": "metrics.accuracy_score(LR.predict(X_test), y_test)"
        }, 
        {
            "execution_count": 35, 
            "cell_type": "code", 
            "metadata": {}, 
            "outputs": [
                {
                    "execution_count": 35, 
                    "metadata": {}, 
                    "data": {
                        "text/plain": "array([ 0.67142857,  0.67142857,  0.68571429,  0.68571429,  0.68571429,\n        0.68571429,  0.68571429,  0.68571429,  0.68571429,  0.68571429,\n        0.68571429,  0.68571429,  0.71428571,  0.71428571,  0.71428571,\n        0.71428571,  0.71428571,  0.71428571,  0.71428571,  0.72857143,\n        0.72857143,  0.72857143,  0.72857143,  0.72857143,  0.72857143,\n        0.72857143,  0.72857143,  0.72857143,  0.72857143,  0.72857143,\n        0.72857143,  0.72857143,  0.72857143,  0.72857143,  0.72857143,\n        0.72857143,  0.72857143,  0.72857143,  0.72857143,  0.72857143,\n        0.72857143,  0.72857143,  0.72857143,  0.72857143,  0.74285714,\n        0.74285714,  0.74285714,  0.74285714,  0.74285714,  0.74285714,\n        0.74285714,  0.74285714,  0.74285714,  0.74285714,  0.74285714,\n        0.74285714,  0.74285714,  0.74285714,  0.74285714,  0.74285714,\n        0.74285714,  0.74285714,  0.74285714,  0.74285714,  0.74285714,\n        0.74285714,  0.74285714,  0.74285714,  0.74285714,  0.74285714,\n        0.74285714,  0.74285714,  0.74285714,  0.74285714,  0.74285714,\n        0.74285714,  0.74285714,  0.74285714,  0.74285714,  0.74285714,\n        0.74285714,  0.74285714,  0.74285714,  0.74285714,  0.74285714,\n        0.74285714,  0.74285714,  0.74285714,  0.74285714,  0.74285714,\n        0.74285714,  0.74285714,  0.74285714,  0.74285714,  0.74285714,\n        0.74285714,  0.74285714,  0.74285714,  0.74285714,  0.74285714,\n        0.74285714,  0.74285714,  0.74285714,  0.74285714,  0.74285714,\n        0.74285714,  0.74285714,  0.74285714,  0.74285714,  0.74285714,\n        0.74285714,  0.74285714,  0.74285714,  0.74285714,  0.74285714,\n        0.74285714,  0.74285714,  0.74285714,  0.74285714,  0.74285714,\n        0.74285714,  0.74285714,  0.74285714,  0.74285714,  0.74285714,\n        0.74285714,  0.74285714,  0.74285714,  0.74285714,  0.74285714,\n        0.74285714,  0.74285714,  0.74285714,  0.74285714,  0.74285714,\n        0.74285714,  0.74285714,  0.74285714,  0.74285714,  0.74285714,\n        0.74285714,  0.74285714,  0.74285714,  0.74285714,  0.74285714,\n        0.74285714,  0.74285714,  0.74285714,  0.74285714,  0.74285714,\n        0.74285714,  0.74285714,  0.74285714,  0.74285714,  0.74285714,\n        0.74285714,  0.74285714,  0.74285714,  0.74285714,  0.74285714,\n        0.74285714,  0.74285714,  0.74285714,  0.74285714,  0.74285714,\n        0.74285714,  0.74285714,  0.74285714,  0.74285714,  0.74285714,\n        0.74285714,  0.74285714,  0.74285714,  0.74285714,  0.74285714,\n        0.74285714,  0.74285714,  0.74285714,  0.74285714,  0.74285714,\n        0.74285714,  0.74285714,  0.74285714,  0.74285714,  0.74285714,\n        0.74285714,  0.74285714,  0.74285714,  0.74285714,  0.74285714,\n        0.74285714,  0.74285714,  0.72857143,  0.72857143,  0.72857143,\n        0.72857143,  0.72857143,  0.72857143,  0.72857143,  0.72857143,\n        0.72857143,  0.72857143,  0.72857143,  0.72857143,  0.72857143,\n        0.72857143,  0.72857143,  0.72857143,  0.72857143,  0.72857143,\n        0.72857143,  0.72857143,  0.72857143,  0.72857143,  0.72857143,\n        0.72857143,  0.72857143,  0.72857143,  0.72857143,  0.72857143,\n        0.72857143,  0.72857143,  0.72857143,  0.72857143,  0.72857143,\n        0.72857143,  0.72857143,  0.72857143,  0.72857143,  0.72857143,\n        0.72857143,  0.72857143,  0.72857143,  0.72857143,  0.72857143,\n        0.72857143,  0.72857143,  0.72857143,  0.72857143,  0.72857143,\n        0.72857143,  0.72857143,  0.72857143,  0.72857143,  0.72857143,\n        0.72857143,  0.72857143,  0.72857143,  0.72857143,  0.72857143,\n        0.72857143,  0.72857143,  0.72857143,  0.72857143,  0.72857143,\n        0.72857143,  0.72857143,  0.72857143,  0.72857143,  0.72857143,\n        0.72857143,  0.72857143,  0.72857143,  0.72857143,  0.72857143,\n        0.72857143,  0.72857143,  0.72857143,  0.72857143,  0.72857143,\n        0.72857143,  0.72857143,  0.72857143,  0.72857143,  0.72857143,\n        0.72857143,  0.72857143,  0.72857143,  0.72857143,  0.72857143,\n        0.72857143,  0.72857143,  0.72857143,  0.72857143,  0.72857143,\n        0.72857143,  0.72857143,  0.72857143,  0.72857143,  0.72857143,\n        0.72857143,  0.72857143,  0.72857143,  0.72857143,  0.72857143,\n        0.72857143,  0.72857143,  0.72857143,  0.72857143,  0.72857143,\n        0.72857143,  0.72857143,  0.72857143,  0.72857143,  0.72857143,\n        0.72857143,  0.72857143,  0.72857143,  0.72857143,  0.72857143,\n        0.72857143,  0.72857143,  0.72857143,  0.72857143,  0.72857143,\n        0.72857143,  0.72857143,  0.72857143,  0.72857143,  0.72857143,\n        0.72857143,  0.72857143,  0.72857143,  0.72857143,  0.72857143,\n        0.72857143,  0.72857143,  0.72857143,  0.72857143,  0.72857143,\n        0.72857143,  0.72857143,  0.72857143,  0.72857143,  0.72857143,\n        0.72857143,  0.72857143,  0.72857143,  0.72857143,  0.72857143,\n        0.72857143,  0.72857143,  0.72857143,  0.72857143,  0.72857143,\n        0.72857143,  0.72857143,  0.72857143,  0.72857143,  0.72857143,\n        0.72857143,  0.72857143,  0.72857143,  0.72857143,  0.72857143,\n        0.72857143,  0.72857143,  0.72857143,  0.72857143,  0.72857143,\n        0.72857143,  0.72857143,  0.72857143,  0.72857143,  0.72857143,\n        0.72857143,  0.72857143,  0.72857143,  0.72857143,  0.72857143,\n        0.72857143,  0.72857143,  0.72857143,  0.72857143,  0.72857143,\n        0.72857143,  0.72857143,  0.72857143,  0.72857143,  0.72857143,\n        0.72857143,  0.72857143,  0.72857143,  0.72857143,  0.72857143,\n        0.72857143,  0.72857143,  0.72857143,  0.72857143,  0.72857143,\n        0.72857143,  0.72857143,  0.72857143,  0.72857143,  0.72857143,\n        0.72857143,  0.72857143,  0.72857143,  0.72857143,  0.72857143,\n        0.72857143,  0.72857143,  0.72857143,  0.72857143,  0.72857143,\n        0.72857143,  0.72857143,  0.72857143,  0.72857143,  0.72857143,\n        0.72857143,  0.72857143,  0.72857143,  0.72857143,  0.72857143,\n        0.72857143,  0.72857143,  0.72857143,  0.72857143,  0.72857143,\n        0.72857143,  0.72857143,  0.72857143,  0.72857143,  0.72857143,\n        0.72857143,  0.72857143,  0.72857143,  0.72857143,  0.72857143,\n        0.72857143,  0.72857143,  0.72857143,  0.72857143,  0.72857143,\n        0.72857143,  0.72857143,  0.72857143,  0.72857143,  0.72857143,\n        0.72857143,  0.72857143,  0.72857143,  0.72857143,  0.72857143,\n        0.72857143,  0.72857143,  0.72857143,  0.72857143,  0.72857143,\n        0.72857143,  0.72857143,  0.72857143,  0.72857143,  0.72857143,\n        0.72857143,  0.72857143,  0.72857143,  0.72857143,  0.72857143,\n        0.72857143,  0.72857143,  0.72857143,  0.72857143,  0.72857143,\n        0.72857143,  0.72857143,  0.72857143,  0.72857143,  0.72857143,\n        0.72857143,  0.72857143,  0.72857143,  0.72857143,  0.72857143,\n        0.72857143,  0.72857143,  0.72857143,  0.72857143,  0.72857143,\n        0.72857143,  0.72857143,  0.72857143,  0.72857143,  0.72857143,\n        0.72857143,  0.72857143,  0.72857143,  0.72857143,  0.72857143,\n        0.72857143,  0.72857143,  0.72857143,  0.72857143,  0.72857143,\n        0.72857143,  0.72857143,  0.72857143,  0.72857143,  0.72857143,\n        0.72857143,  0.72857143,  0.72857143,  0.72857143,  0.72857143,\n        0.72857143,  0.72857143,  0.72857143,  0.72857143,  0.72857143,\n        0.72857143,  0.72857143,  0.72857143,  0.72857143,  0.72857143,\n        0.72857143,  0.72857143,  0.72857143,  0.72857143,  0.72857143,\n        0.72857143,  0.72857143,  0.72857143,  0.72857143,  0.72857143,\n        0.72857143,  0.72857143,  0.72857143,  0.72857143,  0.72857143,\n        0.72857143,  0.72857143,  0.72857143,  0.72857143,  0.72857143,\n        0.72857143,  0.72857143,  0.72857143,  0.72857143,  0.72857143,\n        0.72857143,  0.72857143,  0.72857143,  0.72857143,  0.72857143,\n        0.72857143,  0.72857143,  0.72857143,  0.72857143,  0.72857143,\n        0.72857143,  0.72857143,  0.72857143,  0.72857143,  0.72857143,\n        0.72857143,  0.72857143,  0.72857143,  0.72857143,  0.72857143,\n        0.72857143,  0.72857143,  0.72857143,  0.72857143,  0.72857143,\n        0.72857143,  0.72857143,  0.72857143,  0.72857143,  0.72857143,\n        0.72857143,  0.72857143,  0.72857143,  0.72857143,  0.72857143,\n        0.72857143,  0.72857143,  0.72857143,  0.72857143,  0.72857143,\n        0.72857143,  0.72857143,  0.72857143,  0.72857143,  0.72857143,\n        0.72857143,  0.72857143,  0.72857143,  0.72857143,  0.72857143,\n        0.72857143,  0.72857143,  0.72857143,  0.72857143,  0.72857143,\n        0.72857143,  0.72857143,  0.72857143,  0.72857143,  0.72857143,\n        0.72857143,  0.72857143,  0.72857143,  0.72857143,  0.72857143,\n        0.72857143,  0.72857143,  0.72857143,  0.72857143,  0.72857143,\n        0.72857143,  0.72857143,  0.72857143,  0.72857143,  0.72857143,\n        0.72857143,  0.72857143,  0.72857143,  0.72857143,  0.72857143,\n        0.72857143,  0.72857143,  0.72857143,  0.72857143,  0.72857143,\n        0.72857143,  0.72857143,  0.72857143,  0.72857143,  0.72857143,\n        0.72857143,  0.72857143,  0.72857143,  0.72857143,  0.72857143,\n        0.72857143,  0.72857143,  0.72857143,  0.72857143,  0.72857143,\n        0.72857143,  0.72857143,  0.72857143,  0.72857143,  0.72857143,\n        0.72857143,  0.72857143,  0.72857143,  0.72857143,  0.72857143,\n        0.72857143,  0.72857143,  0.72857143,  0.72857143,  0.72857143,\n        0.72857143,  0.72857143,  0.72857143,  0.72857143,  0.72857143,\n        0.72857143,  0.72857143,  0.72857143,  0.72857143,  0.72857143,\n        0.72857143,  0.72857143,  0.72857143,  0.72857143,  0.72857143,\n        0.72857143,  0.72857143,  0.72857143,  0.72857143,  0.72857143,\n        0.72857143,  0.72857143,  0.72857143,  0.72857143,  0.72857143,\n        0.72857143,  0.72857143,  0.72857143,  0.72857143,  0.72857143,\n        0.72857143,  0.72857143,  0.72857143,  0.72857143,  0.72857143,\n        0.72857143,  0.72857143,  0.72857143,  0.72857143,  0.72857143,\n        0.72857143,  0.72857143,  0.72857143,  0.72857143,  0.72857143,\n        0.72857143,  0.72857143,  0.72857143,  0.72857143,  0.72857143,\n        0.72857143,  0.72857143,  0.72857143,  0.72857143,  0.72857143,\n        0.72857143,  0.72857143,  0.72857143,  0.72857143,  0.72857143,\n        0.72857143,  0.72857143,  0.72857143,  0.72857143,  0.72857143,\n        0.72857143,  0.72857143,  0.72857143,  0.72857143,  0.72857143,\n        0.72857143,  0.72857143,  0.72857143,  0.72857143,  0.72857143,\n        0.72857143,  0.72857143,  0.72857143,  0.72857143,  0.72857143,\n        0.72857143,  0.72857143,  0.72857143,  0.72857143,  0.72857143,\n        0.72857143,  0.72857143,  0.72857143,  0.72857143,  0.72857143,\n        0.72857143,  0.71428571,  0.71428571,  0.71428571,  0.71428571,\n        0.71428571,  0.71428571,  0.71428571,  0.71428571,  0.71428571,\n        0.71428571,  0.71428571,  0.71428571,  0.71428571,  0.71428571,\n        0.71428571,  0.71428571,  0.71428571,  0.71428571,  0.71428571,\n        0.71428571,  0.71428571,  0.71428571,  0.71428571,  0.71428571,\n        0.71428571,  0.71428571,  0.71428571,  0.71428571,  0.71428571,\n        0.71428571,  0.71428571,  0.71428571,  0.71428571,  0.71428571,\n        0.71428571,  0.71428571,  0.71428571,  0.71428571,  0.71428571,\n        0.71428571,  0.71428571,  0.71428571,  0.71428571,  0.71428571,\n        0.71428571,  0.71428571,  0.71428571,  0.71428571,  0.71428571,\n        0.71428571,  0.71428571,  0.71428571,  0.71428571,  0.71428571,\n        0.71428571,  0.71428571,  0.71428571,  0.71428571,  0.71428571,\n        0.71428571,  0.71428571,  0.71428571,  0.71428571,  0.71428571,\n        0.71428571,  0.71428571,  0.71428571,  0.71428571,  0.71428571,\n        0.71428571,  0.71428571,  0.71428571,  0.71428571,  0.71428571,\n        0.71428571,  0.71428571,  0.71428571,  0.71428571,  0.71428571,\n        0.71428571,  0.71428571,  0.71428571,  0.71428571,  0.71428571,\n        0.71428571,  0.71428571,  0.71428571,  0.71428571,  0.71428571,\n        0.71428571,  0.71428571,  0.71428571,  0.71428571,  0.71428571,\n        0.71428571,  0.71428571,  0.71428571,  0.71428571,  0.71428571,\n        0.71428571,  0.71428571,  0.71428571,  0.71428571,  0.71428571,\n        0.71428571,  0.71428571,  0.71428571,  0.71428571,  0.71428571,\n        0.71428571,  0.71428571,  0.71428571,  0.71428571,  0.71428571,\n        0.71428571,  0.71428571,  0.71428571,  0.71428571,  0.71428571,\n        0.71428571,  0.71428571,  0.71428571,  0.71428571,  0.71428571,\n        0.71428571,  0.71428571,  0.71428571,  0.71428571,  0.71428571,\n        0.71428571,  0.71428571,  0.71428571,  0.71428571,  0.71428571,\n        0.71428571,  0.71428571,  0.71428571,  0.71428571,  0.71428571,\n        0.71428571,  0.71428571,  0.71428571,  0.71428571,  0.71428571,\n        0.71428571,  0.71428571,  0.71428571,  0.71428571,  0.71428571,\n        0.71428571,  0.71428571,  0.71428571,  0.71428571,  0.71428571,\n        0.71428571,  0.71428571,  0.71428571,  0.71428571,  0.71428571,\n        0.71428571,  0.71428571,  0.71428571,  0.71428571,  0.71428571,\n        0.71428571,  0.71428571,  0.71428571,  0.71428571,  0.71428571,\n        0.71428571,  0.71428571,  0.71428571,  0.71428571,  0.71428571,\n        0.71428571,  0.71428571,  0.71428571,  0.71428571,  0.71428571,\n        0.71428571,  0.71428571,  0.71428571,  0.71428571,  0.71428571,\n        0.71428571,  0.71428571,  0.71428571,  0.71428571,  0.71428571,\n        0.71428571,  0.71428571,  0.71428571,  0.71428571,  0.71428571,\n        0.71428571,  0.71428571,  0.71428571,  0.71428571,  0.71428571,\n        0.71428571,  0.71428571,  0.71428571,  0.71428571,  0.71428571,\n        0.71428571,  0.71428571,  0.71428571,  0.71428571,  0.71428571,\n        0.71428571,  0.71428571,  0.71428571,  0.71428571,  0.71428571,\n        0.71428571,  0.71428571,  0.71428571,  0.71428571,  0.71428571,\n        0.71428571,  0.71428571,  0.71428571,  0.71428571,  0.71428571,\n        0.71428571,  0.71428571,  0.71428571,  0.71428571,  0.71428571,\n        0.71428571,  0.71428571,  0.71428571,  0.71428571,  0.71428571,\n        0.71428571,  0.71428571,  0.71428571,  0.71428571,  0.71428571,\n        0.71428571,  0.71428571,  0.71428571,  0.71428571,  0.71428571,\n        0.71428571,  0.71428571,  0.71428571,  0.71428571,  0.71428571,\n        0.71428571,  0.71428571,  0.71428571,  0.71428571])"
                    }, 
                    "output_type": "execute_result"
                }
            ], 
            "source": "Ks = 1000\nmean_acc = np.zeros((Ks-1))\nstd_acc = np.zeros((Ks-1))\nConfustionMx = [];\ni = 1\nfor n in np.arange(0.001,1,0.001 ):\n    \n    #Train Model and Predict  \n    LR = LogisticRegression(C=n, solver='liblinear', max_iter=200).fit(X_train,y_train)\n    yhat=LR.predict(X_test)\n    mean_acc[i-1] = metrics.accuracy_score(y_test, yhat)\n\n    \n    std_acc[i-1]=np.std(yhat==y_test)/np.sqrt(yhat.shape[0])\n    i = i +1\nmean_acc"
        }, 
        {
            "execution_count": 36, 
            "cell_type": "code", 
            "metadata": {}, 
            "outputs": [
                {
                    "output_type": "display_data", 
                    "data": {
                        "image/png": "[encoded data removed]", 
                        "text/plain": "<matplotlib.figure.Figure at 0x7fc7d9a55f28>"
                    }, 
                    "metadata": {}
                }
            ], 
            "source": "plt.plot(np.arange(0.001,1,0.001),mean_acc,'g')\nplt.fill_between(np.arange(0.001,1,0.001),mean_acc - 1 * std_acc,mean_acc + 1 * std_acc, alpha=0.10)\nplt.legend(('Accuracy ', '+/- 3xstd'))\nplt.ylabel('Accuracy ')\nplt.xlabel('C (K)')\nplt.tight_layout()\nplt.show()"
        }, 
        {
            "source": "C = 0.1 seems pretty sensible to use ", 
            "cell_type": "markdown", 
            "metadata": {}
        }, 
        {
            "source": "### Final Logistic Regression model for testing", 
            "cell_type": "markdown", 
            "metadata": {}
        }, 
        {
            "execution_count": 37, 
            "cell_type": "code", 
            "metadata": {}, 
            "outputs": [], 
            "source": "final_LR = LogisticRegression(C=n, solver='liblinear', max_iter=200).fit(X_train,y_train)\n"
        }, 
        {
            "source": "# Model Evaluation using Test set", 
            "cell_type": "markdown", 
            "metadata": {}
        }, 
        {
            "execution_count": 38, 
            "cell_type": "code", 
            "metadata": {}, 
            "outputs": [], 
            "source": "from sklearn.metrics import jaccard_similarity_score\nfrom sklearn.metrics import f1_score\nfrom sklearn.metrics import log_loss"
        }, 
        {
            "source": "First, download and load the test set:", 
            "cell_type": "markdown", 
            "metadata": {}
        }, 
        {
            "execution_count": 39, 
            "cell_type": "code", 
            "metadata": {}, 
            "outputs": [
                {
                    "output_type": "stream", 
                    "name": "stdout", 
                    "text": "--2018-12-05 08:25:22--  https://s3-api.us-geo.objectstorage.softlayer.net/cf-courses-data/CognitiveClass/ML0101ENv3/labs/loan_test.csv\nResolving s3-api.us-geo.objectstorage.softlayer.net (s3-api.us-geo.objectstorage.softlayer.net)... 67.228.254.193\nConnecting to s3-api.us-geo.objectstorage.softlayer.net (s3-api.us-geo.objectstorage.softlayer.net)|67.228.254.193|:443... connected.\nHTTP request sent, awaiting response... 200 OK\nLength: 3642 (3.6K) [text/csv]\nSaving to: \u2018loan_test.csv\u2019\n\n100%[======================================>] 3,642       --.-K/s   in 0s      \n\n2018-12-05 08:25:22 (480 MB/s) - \u2018loan_test.csv\u2019 saved [3642/3642]\n\n"
                }
            ], 
            "source": "!wget -O loan_test.csv https://s3-api.us-geo.objectstorage.softlayer.net/cf-courses-data/CognitiveClass/ML0101ENv3/labs/loan_test.csv"
        }, 
        {
            "source": "### Load Test set for evaluation ", 
            "cell_type": "markdown", 
            "metadata": {}
        }, 
        {
            "execution_count": 40, 
            "cell_type": "code", 
            "metadata": {}, 
            "outputs": [
                {
                    "execution_count": 40, 
                    "metadata": {}, 
                    "data": {
                        "text/html": "<div>\n<style scoped>\n    .dataframe tbody tr th:only-of-type {\n        vertical-align: middle;\n    }\n\n    .dataframe tbody tr th {\n        vertical-align: top;\n    }\n\n    .dataframe thead th {\n        text-align: right;\n    }\n</style>\n<table border=\"1\" class=\"dataframe\">\n  <thead>\n    <tr style=\"text-align: right;\">\n      <th></th>\n      <th>Unnamed: 0</th>\n      <th>Unnamed: 0.1</th>\n      <th>loan_status</th>\n      <th>Principal</th>\n      <th>terms</th>\n      <th>effective_date</th>\n      <th>due_date</th>\n      <th>age</th>\n      <th>education</th>\n      <th>Gender</th>\n    </tr>\n  </thead>\n  <tbody>\n    <tr>\n      <th>0</th>\n      <td>1</td>\n      <td>1</td>\n      <td>PAIDOFF</td>\n      <td>1000</td>\n      <td>30</td>\n      <td>9/8/2016</td>\n      <td>10/7/2016</td>\n      <td>50</td>\n      <td>Bechalor</td>\n      <td>female</td>\n    </tr>\n    <tr>\n      <th>1</th>\n      <td>5</td>\n      <td>5</td>\n      <td>PAIDOFF</td>\n      <td>300</td>\n      <td>7</td>\n      <td>9/9/2016</td>\n      <td>9/15/2016</td>\n      <td>35</td>\n      <td>Master or Above</td>\n      <td>male</td>\n    </tr>\n    <tr>\n      <th>2</th>\n      <td>21</td>\n      <td>21</td>\n      <td>PAIDOFF</td>\n      <td>1000</td>\n      <td>30</td>\n      <td>9/10/2016</td>\n      <td>10/9/2016</td>\n      <td>43</td>\n      <td>High School or Below</td>\n      <td>female</td>\n    </tr>\n    <tr>\n      <th>3</th>\n      <td>24</td>\n      <td>24</td>\n      <td>PAIDOFF</td>\n      <td>1000</td>\n      <td>30</td>\n      <td>9/10/2016</td>\n      <td>10/9/2016</td>\n      <td>26</td>\n      <td>college</td>\n      <td>male</td>\n    </tr>\n    <tr>\n      <th>4</th>\n      <td>35</td>\n      <td>35</td>\n      <td>PAIDOFF</td>\n      <td>800</td>\n      <td>15</td>\n      <td>9/11/2016</td>\n      <td>9/25/2016</td>\n      <td>29</td>\n      <td>Bechalor</td>\n      <td>male</td>\n    </tr>\n  </tbody>\n</table>\n</div>", 
                        "text/plain": "   Unnamed: 0  Unnamed: 0.1 loan_status  Principal  terms effective_date  \\\n0           1             1     PAIDOFF       1000     30       9/8/2016   \n1           5             5     PAIDOFF        300      7       9/9/2016   \n2          21            21     PAIDOFF       1000     30      9/10/2016   \n3          24            24     PAIDOFF       1000     30      9/10/2016   \n4          35            35     PAIDOFF        800     15      9/11/2016   \n\n    due_date  age             education  Gender  \n0  10/7/2016   50              Bechalor  female  \n1  9/15/2016   35       Master or Above    male  \n2  10/9/2016   43  High School or Below  female  \n3  10/9/2016   26               college    male  \n4  9/25/2016   29              Bechalor    male  "
                    }, 
                    "output_type": "execute_result"
                }
            ], 
            "source": "test_df = pd.read_csv('loan_test.csv')\ntest_df.head()"
        }, 
        {
            "source": "### Preprocess Test set like train", 
            "cell_type": "markdown", 
            "metadata": {}
        }, 
        {
            "execution_count": 41, 
            "cell_type": "code", 
            "metadata": {}, 
            "outputs": [], 
            "source": "y_true = df['loan_status'].values\ntest_df['due_date'] = pd.to_datetime(df['due_date'])\ntest_df['effective_date'] = pd.to_datetime(df['effective_date'])\ntest_df['dayofweek'] = df['effective_date'].dt.dayofweek\ntest_df['weekend'] = df['dayofweek'].apply(lambda x: 1 if (x>3)  else 0)\ntest_df['Gender'].replace(to_replace=['male','female'], value=[0,1],inplace=True)\nFeature = df[['Principal','terms','age','Gender','weekend']]\nFeature = pd.concat([Feature,pd.get_dummies(df['education'])], axis=1)\nFeature.drop(['Master or Above'], axis = 1,inplace=True)\nX_true = Feature\nX_true = preprocessing.StandardScaler().fit(X_true).transform(X_true)\n"
        }, 
        {
            "source": "### KNN", 
            "cell_type": "markdown", 
            "metadata": {}
        }, 
        {
            "execution_count": 42, 
            "cell_type": "code", 
            "metadata": {}, 
            "outputs": [], 
            "source": "y_pred = final_KNN.predict(X_true)"
        }, 
        {
            "source": "#### Jaccard", 
            "cell_type": "markdown", 
            "metadata": {}
        }, 
        {
            "execution_count": 43, 
            "cell_type": "code", 
            "metadata": {}, 
            "outputs": [
                {
                    "execution_count": 43, 
                    "metadata": {}, 
                    "data": {
                        "text/plain": "0.80346820809248554"
                    }, 
                    "output_type": "execute_result"
                }
            ], 
            "source": "jaccard_similarity_score(y_pred, y_true)"
        }, 
        {
            "source": "#### F1-score", 
            "cell_type": "markdown", 
            "metadata": {}
        }, 
        {
            "execution_count": 44, 
            "cell_type": "code", 
            "metadata": {}, 
            "outputs": [
                {
                    "execution_count": 44, 
                    "metadata": {}, 
                    "data": {
                        "text/plain": "0.81166612573879904"
                    }, 
                    "output_type": "execute_result"
                }
            ], 
            "source": "f1_score(y_pred, y_true, average='weighted')"
        }, 
        {
            "source": "### Decision Tree", 
            "cell_type": "markdown", 
            "metadata": {}
        }, 
        {
            "execution_count": 45, 
            "cell_type": "code", 
            "metadata": {}, 
            "outputs": [], 
            "source": "y_pred = final_dTree.predict(X_true)"
        }, 
        {
            "source": "#### Jaccard", 
            "cell_type": "markdown", 
            "metadata": {}
        }, 
        {
            "execution_count": 46, 
            "cell_type": "code", 
            "metadata": {}, 
            "outputs": [
                {
                    "execution_count": 46, 
                    "metadata": {}, 
                    "data": {
                        "text/plain": "0.86416184971098264"
                    }, 
                    "output_type": "execute_result"
                }
            ], 
            "source": "jaccard_similarity_score(y_pred, y_true)"
        }, 
        {
            "source": "#### F1-score", 
            "cell_type": "markdown", 
            "metadata": {}
        }, 
        {
            "execution_count": 47, 
            "cell_type": "code", 
            "metadata": {}, 
            "outputs": [
                {
                    "execution_count": 47, 
                    "metadata": {}, 
                    "data": {
                        "text/plain": "0.86339163726446955"
                    }, 
                    "output_type": "execute_result"
                }
            ], 
            "source": "f1_score(y_pred, y_true, average='weighted')"
        }, 
        {
            "source": "### SVM", 
            "cell_type": "markdown", 
            "metadata": {}
        }, 
        {
            "execution_count": 48, 
            "cell_type": "code", 
            "metadata": {}, 
            "outputs": [], 
            "source": "y_pred = final_SVM.predict(X_true)"
        }, 
        {
            "source": "#### Jaccard", 
            "cell_type": "markdown", 
            "metadata": {}
        }, 
        {
            "execution_count": 49, 
            "cell_type": "code", 
            "metadata": {}, 
            "outputs": [
                {
                    "execution_count": 49, 
                    "metadata": {}, 
                    "data": {
                        "text/plain": "0.75144508670520227"
                    }, 
                    "output_type": "execute_result"
                }
            ], 
            "source": "jaccard_similarity_score(y_pred, y_true)"
        }, 
        {
            "source": "#### F1-score", 
            "cell_type": "markdown", 
            "metadata": {}
        }, 
        {
            "execution_count": 50, 
            "cell_type": "code", 
            "metadata": {}, 
            "outputs": [
                {
                    "execution_count": 50, 
                    "metadata": {}, 
                    "data": {
                        "text/plain": "0.85808580858085803"
                    }, 
                    "output_type": "execute_result"
                }
            ], 
            "source": "f1_score(y_pred, y_true, average='weighted')"
        }, 
        {
            "source": "### Logistic Regression", 
            "cell_type": "markdown", 
            "metadata": {}
        }, 
        {
            "execution_count": 51, 
            "cell_type": "code", 
            "metadata": {}, 
            "outputs": [], 
            "source": "y_pred = final_LR.predict(X_true)"
        }, 
        {
            "source": "#### Jaccard", 
            "cell_type": "markdown", 
            "metadata": {}
        }, 
        {
            "execution_count": 52, 
            "cell_type": "code", 
            "metadata": {}, 
            "outputs": [
                {
                    "execution_count": 52, 
                    "metadata": {}, 
                    "data": {
                        "text/plain": "0.75433526011560692"
                    }, 
                    "output_type": "execute_result"
                }
            ], 
            "source": "jaccard_similarity_score(y_pred, y_true)"
        }, 
        {
            "source": "#### F1-score", 
            "cell_type": "markdown", 
            "metadata": {}
        }, 
        {
            "execution_count": 53, 
            "cell_type": "code", 
            "metadata": {}, 
            "outputs": [
                {
                    "execution_count": 53, 
                    "metadata": {}, 
                    "data": {
                        "text/plain": "0.77616694130714936"
                    }, 
                    "output_type": "execute_result"
                }
            ], 
            "source": "f1_score(y_pred, y_true, average='weighted')"
        }, 
        {
            "source": "#### LogLoss", 
            "cell_type": "markdown", 
            "metadata": {}
        }, 
        {
            "execution_count": 54, 
            "cell_type": "code", 
            "metadata": {}, 
            "outputs": [], 
            "source": "np.place(y_pred, y_pred=='PAIDOFF', 1)\nnp.place(y_pred, y_pred=='COLLECTION', 0)\nnp.place(y_true, y_true=='PAIDOFF', 1)\nnp.place(y_true, y_true=='COLLECTION', 0)"
        }, 
        {
            "execution_count": 55, 
            "cell_type": "code", 
            "metadata": {}, 
            "outputs": [], 
            "source": "y_pred = y_pred.astype(np.float)\ny_true = y_true.astype(np.float)"
        }, 
        {
            "execution_count": 56, 
            "cell_type": "code", 
            "metadata": {}, 
            "outputs": [
                {
                    "execution_count": 56, 
                    "metadata": {}, 
                    "data": {
                        "text/plain": "8.4850196043369763"
                    }, 
                    "output_type": "execute_result"
                }
            ], 
            "source": "log_loss(y_pred, y_true)"
        }, 
        {
            "source": "# Report\nYou should be able to report the accuracy of the built model using different evaluation metrics:", 
            "cell_type": "markdown", 
            "metadata": {}
        }, 
        {
            "source": "| Algorithm          | Jaccard | F1-score | LogLoss |\n|--------------------|---------|----------|---------|\n| KNN                | 0.8034  | 0.8116   | NA      |\n| Decision Tree      | 0.8641  | 0.8633   | NA      |\n| SVM                | 0.7514  | 0.8580   | NA      |\n| LogisticRegression | 0.7543  | 0.7761   | 8.4850  |", 
            "cell_type": "markdown", 
            "metadata": {}
        }, 
        {
            "source": "From this, a more stable and high performance model seems to be Decision Tree.", 
            "cell_type": "markdown", 
            "metadata": {}
        }, 
        {
            "source": "## Want to learn more?\n\nIBM SPSS Modeler is a comprehensive analytics platform that has many machine learning algorithms. It has been designed to bring predictive intelligence to decisions made by individuals, by groups, by systems \u2013 by your enterprise as a whole. A free trial is available through this course, available here: [SPSS Modeler](http://cocl.us/ML0101EN-SPSSModeler).\n\nAlso, you can use Watson Studio to run these notebooks faster with bigger datasets. Watson Studio is IBM's leading cloud solution for data scientists, built by data scientists. With Jupyter notebooks, RStudio, Apache Spark and popular libraries pre-packaged in the cloud, Watson Studio enables data scientists to collaborate on their projects without having to install anything. Join the fast-growing community of Watson Studio users today with a free account at [Watson Studio](https://cocl.us/ML0101EN_DSX)\n\n\n<hr>\nCopyright &copy; 2018 [Cognitive Class](https://cocl.us/DX0108EN_CC). This notebook and its source code are released under the terms of the [MIT License](https://bigdatauniversity.com/mit-license/).\u200b", 
            "cell_type": "markdown", 
            "metadata": {}
        }, 
        {
            "source": "### Thanks for completing this lesson!\n\nNotebook created by: <a href = \"https://ca.linkedin.com/in/saeedaghabozorgi\">Saeed Aghabozorgi</a>", 
            "cell_type": "markdown", 
            "metadata": {}
        }, 
        {
            "execution_count": null, 
            "cell_type": "code", 
            "metadata": {}, 
            "outputs": [], 
            "source": ""
        }
    ], 
    "metadata": {
        "kernelspec": {
            "display_name": "Python 3.5", 
            "name": "python3", 
            "language": "python"
        }, 
        "language_info": {
            "mimetype": "text/x-python", 
            "nbconvert_exporter": "python", 
            "version": "3.5.5", 
            "name": "python", 
            "file_extension": ".py", 
            "pygments_lexer": "ipython3", 
            "codemirror_mode": {
                "version": 3, 
                "name": "ipython"
            }
        }
    }, 
    "nbformat": 4
}